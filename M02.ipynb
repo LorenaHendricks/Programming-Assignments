{
 "cells": [
  {
   "cell_type": "code",
   "execution_count": null,
   "id": "16dd21dc-0fc2-4bcc-ba1e-2471801c335b",
   "metadata": {},
   "outputs": [],
   "source": [
    "# 4.1\n",
    "# Assign the value 6 to the variable secret. Then rite conditional \n",
    "# if,else, elif to print the string \"too low,\" is less than 6,\n",
    "# \"Too high,\" if greater than 6, and \"Just Right,\" if equal to 6"
   ]
  },
  {
   "cell_type": "code",
   "execution_count": 1,
   "id": "66b9caa9-95e3-4d60-820f-d09d4c9e982b",
   "metadata": {},
   "outputs": [],
   "source": [
    "secret = 6"
   ]
  },
  {
   "cell_type": "code",
   "execution_count": 9,
   "id": "ef14393c-af5b-4b2f-b6fb-d0547ac78722",
   "metadata": {},
   "outputs": [
    {
     "name": "stdout",
     "output_type": "stream",
     "text": [
      "just right!\n"
     ]
    }
   ],
   "source": [
    "if secret < 6:\n",
    "    print(\"too low!\")\n",
    "elif secret > 6:\n",
    "    print(\"too high!\")\n",
    "else:\n",
    "    print(\"just right!\")"
   ]
  },
  {
   "cell_type": "code",
   "execution_count": 11,
   "id": "8e96a7ff-cbe6-42fd-960c-535b3be7ee2a",
   "metadata": {},
   "outputs": [],
   "source": [
    "# 4.2\n",
    "# Assign true or false to the variables small and green\n",
    "# Write else/if statements to print choices of watermelon, pea, cherry and pumpkin"
   ]
  },
  {
   "cell_type": "code",
   "execution_count": 15,
   "id": "550b125f-a2d5-419e-af5e-f3523be8f2e9",
   "metadata": {},
   "outputs": [
    {
     "name": "stdout",
     "output_type": "stream",
     "text": [
      "cherry!\n"
     ]
    }
   ],
   "source": [
    "small = True \n",
    "green = False\n",
    "\n",
    "if small: # if small is True\n",
    "    if green: # if small is True and green is True \n",
    "        print(\"pea!\")\n",
    "    else: # if small is True and green is False \n",
    "        print(\"cherry!\")\n",
    "else: # if small is False\n",
    "    if green: # if small is False and green is True\n",
    "        print(\"watermelon!\")\n",
    "    else: # if small is False and green is False \n",
    "        print(\"pumpkin!\")"
   ]
  },
  {
   "cell_type": "code",
   "execution_count": 21,
   "id": "69ec1d6f-d29e-488a-8dd4-ca20f06e4d7a",
   "metadata": {},
   "outputs": [],
   "source": [
    "# 6.1\n",
    "# Use a for loop to print the values of the list [3, 2, 1, 0]"
   ]
  },
  {
   "cell_type": "code",
   "execution_count": 19,
   "id": "e51a3e09-fb64-415e-a660-73f917d64499",
   "metadata": {},
   "outputs": [
    {
     "name": "stdout",
     "output_type": "stream",
     "text": [
      "num\n",
      "num\n",
      "num\n",
      "num\n"
     ]
    }
   ],
   "source": [
    "numbers = [3, 2, 1, 0]\n",
    "for num in numbers:\n",
    "    print(\"num\")"
   ]
  },
  {
   "cell_type": "code",
   "execution_count": 25,
   "id": "9e690af8-0c85-4861-9102-a03abb2106d3",
   "metadata": {},
   "outputs": [],
   "source": [
    "# 6.2\n",
    "# Assign the value 7 to the variable guess_me, and the value 1 to the variable number.\n",
    "# Write a while loop that compares number with guess_me.\n",
    "# Print \"too low\" if number is less than guess_me.\n",
    "# If number equals guess_me, print \"found it!\" and then exit the loop.\n",
    "# If number is greater than guess_me, print \"oops\" and then exit the loop. "
   ]
  },
  {
   "cell_type": "code",
   "execution_count": null,
   "id": "d0e791a3-cef3-4f53-853d-fb97848defce",
   "metadata": {},
   "outputs": [],
   "source": [
    "guess_me = 7\n",
    "number = 1\n",
    "\n",
    "while True:\n",
    "    if number < guess_me:\n",
    "        print(\"too low!\")\n",
    "    elif number == guess_me:\n",
    "        print(\"found it!\")\n",
    "        exit\n",
    "    else:\n",
    "        print(\"oops!\")\n",
    "    number += 1"
   ]
  },
  {
   "cell_type": "code",
   "execution_count": null,
   "id": "2c50348b-caad-461d-9b46-913081a3753c",
   "metadata": {},
   "outputs": [],
   "source": [
    "# 6.3\n",
    "# Assign the value 5 to the variable guess_me.\n",
    "# Use a for loop to iterate a variable called number over range(10).\n",
    "# If number is less than guess_me, print \"too low.\"\n",
    "# If number equals guess_me, print \"found it!\" and then break out of the for loop "
   ]
  },
  {
   "cell_type": "code",
   "execution_count": null,
   "id": "99694d43-3b48-4aac-b1d0-2cadc533cdc0",
   "metadata": {},
   "outputs": [],
   "source": [
    "guess_me = 5\n",
    "for number in range(10):\n",
    "    if number < guess_me:\n",
    "        print(\"too low!\")\n",
    "    elif number = guess_me:\n",
    "        print(\"found it!\")\n",
    "        break\n",
    "    else:\n",
    "        print(\"oops!\")\n",
    "        break"
   ]
  }
 ],
 "metadata": {
  "kernelspec": {
   "display_name": "anaconda-panel-2023.05-py310",
   "language": "python",
   "name": "conda-env-anaconda-panel-2023.05-py310-py"
  },
  "language_info": {
   "codemirror_mode": {
    "name": "ipython",
    "version": 3
   },
   "file_extension": ".py",
   "mimetype": "text/x-python",
   "name": "python",
   "nbconvert_exporter": "python",
   "pygments_lexer": "ipython3",
   "version": "3.11.5"
  }
 },
 "nbformat": 4,
 "nbformat_minor": 5
}
