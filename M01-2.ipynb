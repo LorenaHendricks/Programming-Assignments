{
 "cells": [
  {
   "cell_type": "code",
   "execution_count": 21,
   "id": "64f971b5-0022-4e14-ab1c-7910cc9c0c00",
   "metadata": {},
   "outputs": [
    {
     "data": {
      "text/plain": [
       "3600"
      ]
     },
     "execution_count": 21,
     "metadata": {},
     "output_type": "execute_result"
    }
   ],
   "source": [
    "60 * 60"
   ]
  },
  {
   "cell_type": "code",
   "execution_count": 23,
   "id": "8c6d4b51-d155-4cc3-91c6-57d3193df8d7",
   "metadata": {},
   "outputs": [],
   "source": [
    "seconds_per_hour = 3600"
   ]
  },
  {
   "cell_type": "code",
   "execution_count": 25,
   "id": "f8be971d-36eb-4018-88d8-2350785d3ec6",
   "metadata": {},
   "outputs": [
    {
     "data": {
      "text/plain": [
       "86400"
      ]
     },
     "execution_count": 25,
     "metadata": {},
     "output_type": "execute_result"
    }
   ],
   "source": [
    "seconds_per_hour * 24"
   ]
  },
  {
   "cell_type": "code",
   "execution_count": 1,
   "id": "dd6bb4bf-890b-4a43-bfe3-30555aa521f4",
   "metadata": {},
   "outputs": [
    {
     "ename": "NameError",
     "evalue": "name 'seconds_per_hour' is not defined",
     "output_type": "error",
     "traceback": [
      "\u001b[0;31m---------------------------------------------------------------------------\u001b[0m",
      "\u001b[0;31mNameError\u001b[0m                                 Traceback (most recent call last)",
      "Cell \u001b[0;32mIn[1], line 1\u001b[0m\n\u001b[0;32m----> 1\u001b[0m seconds_per_day \u001b[38;5;241m=\u001b[39m seconds_per_hour \u001b[38;5;241m*\u001b[39m \u001b[38;5;241m24\u001b[39m\n\u001b[1;32m      2\u001b[0m seconds_per_day\n",
      "\u001b[0;31mNameError\u001b[0m: name 'seconds_per_hour' is not defined"
     ]
    }
   ],
   "source": [
    "seconds_per_day = seconds_per_hour * 24\n",
    "seconds_per_day"
   ]
  },
  {
   "cell_type": "code",
   "execution_count": 29,
   "id": "89dd0262-19ca-4bf9-8d44-520c8cef5de8",
   "metadata": {},
   "outputs": [
    {
     "data": {
      "text/plain": [
       "24.0"
      ]
     },
     "execution_count": 29,
     "metadata": {},
     "output_type": "execute_result"
    }
   ],
   "source": [
    "seconds_per_day / seconds_per_hour"
   ]
  },
  {
   "cell_type": "markdown",
   "id": "b2239437-7345-41cc-8b09-fe547d611558",
   "metadata": {},
   "source": [
    "# Assistant\n",
    "This error occurs because the variable `seconds_per_hour` has not been defined before it is used in the calculation of `seconds_per_day`. \n",
    "\n",
    "To fix this error, you need to define `seconds_per_hour` before using it in the calculation.\n",
    "\n",
    "Would you like me to provide the corrected code?"
   ]
  },
  {
   "cell_type": "code",
   "execution_count": 31,
   "id": "3afc69f3-b012-4e88-af9a-d0effc9f3b06",
   "metadata": {},
   "outputs": [
    {
     "data": {
      "text/plain": [
       "24"
      ]
     },
     "execution_count": 31,
     "metadata": {},
     "output_type": "execute_result"
    }
   ],
   "source": [
    "seconds_per_day // seconds_per_hour"
   ]
  },
  {
   "cell_type": "code",
   "execution_count": null,
   "id": "e301653f-5e2f-4069-a716-3898119a93d3",
   "metadata": {},
   "outputs": [],
   "source": [
    "yes, agree"
   ]
  }
 ],
 "metadata": {
  "kernelspec": {
   "display_name": "anaconda-panel-2023.05-py310",
   "language": "python",
   "name": "conda-env-anaconda-panel-2023.05-py310-py"
  },
  "language_info": {
   "codemirror_mode": {
    "name": "ipython",
    "version": 3
   },
   "file_extension": ".py",
   "mimetype": "text/x-python",
   "name": "python",
   "nbconvert_exporter": "python",
   "pygments_lexer": "ipython3",
   "version": "3.11.5"
  }
 },
 "nbformat": 4,
 "nbformat_minor": 5
}
