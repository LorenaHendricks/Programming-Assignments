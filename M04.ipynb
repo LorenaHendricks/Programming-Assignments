{
 "cells": [
  {
   "cell_type": "code",
   "execution_count": 22,
   "id": "f804204b-a7e8-43d2-8736-0e92ed6e23d0",
   "metadata": {},
   "outputs": [],
   "source": [
    "# zoo.py"
   ]
  },
  {
   "cell_type": "code",
   "execution_count": 23,
   "id": "6dd7c3fb-d34b-4f0e-94fe-223363c7e9f8",
   "metadata": {},
   "outputs": [],
   "source": [
    "def hours():\n",
    "    print('Open 9-5 daily')"
   ]
  },
  {
   "cell_type": "code",
   "execution_count": 16,
   "id": "c5d2d48b-c254-4956-9feb-cc2d4983289a",
   "metadata": {},
   "outputs": [
    {
     "name": "stdout",
     "output_type": "stream",
     "text": [
      "Open 9-5 daily\n"
     ]
    }
   ],
   "source": [
    "import zoo\n",
    "zoo.hours()"
   ]
  },
  {
   "cell_type": "code",
   "execution_count": 19,
   "id": "8fa48933-0b07-4695-a883-d843234909b6",
   "metadata": {},
   "outputs": [
    {
     "data": {
      "text/plain": [
       "<function zoo.hours()>"
      ]
     },
     "execution_count": 19,
     "metadata": {},
     "output_type": "execute_result"
    }
   ],
   "source": [
    "import zoo as menagerie\n",
    "menagerie.hours"
   ]
  },
  {
   "cell_type": "code",
   "execution_count": 20,
   "id": "45e503b5-d566-451a-9b94-d32e38391b65",
   "metadata": {},
   "outputs": [],
   "source": [
    "# 16.8 SQLAlchemy code to connect to the sqlite3 database \"books.db\" and select column in alphabetical order"
   ]
  },
  {
   "cell_type": "code",
   "execution_count": 43,
   "id": "a58b9053-9bd4-4c12-8749-597e1f83c422",
   "metadata": {},
   "outputs": [
    {
     "name": "stdout",
     "output_type": "stream",
     "text": [
      "dict_keys([])\n"
     ]
    },
    {
     "ename": "KeyError",
     "evalue": "'book'",
     "output_type": "error",
     "traceback": [
      "\u001b[0;31m---------------------------------------------------------------------------\u001b[0m",
      "\u001b[0;31mKeyError\u001b[0m                                  Traceback (most recent call last)",
      "Cell \u001b[0;32mIn[43], line 13\u001b[0m\n\u001b[1;32m     10\u001b[0m \u001b[38;5;28mprint\u001b[39m(metadata\u001b[38;5;241m.\u001b[39mtables\u001b[38;5;241m.\u001b[39mkeys())\n\u001b[1;32m     12\u001b[0m \u001b[38;5;66;03m# Assuming the table name is 'books' instead of 'book'\u001b[39;00m\n\u001b[0;32m---> 13\u001b[0m book \u001b[38;5;241m=\u001b[39m metadata\u001b[38;5;241m.\u001b[39mtables[\u001b[38;5;124m'\u001b[39m\u001b[38;5;124mbook\u001b[39m\u001b[38;5;124m'\u001b[39m]  \u001b[38;5;66;03m# Access the 'books' table from the reflected metadata\u001b[39;00m\n\u001b[1;32m     15\u001b[0m Session \u001b[38;5;241m=\u001b[39m sessionmaker(bind\u001b[38;5;241m=\u001b[39mengine)\n\u001b[1;32m     16\u001b[0m session \u001b[38;5;241m=\u001b[39m Session()\n",
      "\u001b[0;31mKeyError\u001b[0m: 'book'"
     ]
    }
   ],
   "source": [
    "from sqlalchemy import create_engine, MetaData, Table\n",
    "from sqlalchemy.orm import sessionmaker\n",
    "\n",
    "engine = create_engine('sqlite:///books.db')\n",
    "conn = engine.connect()\n",
    "metadata = MetaData()\n",
    "metadata.reflect(bind=engine)  # Reflect the existing tables in the database\n",
    "\n",
    "# Check the actual table names in the database\n",
    "print(metadata.tables.keys())\n",
    "\n",
    "# Assuming the table name is 'books' instead of 'book'\n",
    "book = metadata.tables['book']  # Access the 'books' table from the reflected metadata\n",
    "\n",
    "Session = sessionmaker(bind=engine)\n",
    "session = Session()\n",
    "\n",
    "query = session.query(book.columns.title).order_by(book.columns.title)\n",
    "\n",
    "for title in query:\n",
    "    print(title)\n",
    "    \n",
    "session.close()"
   ]
  },
  {
   "cell_type": "code",
   "execution_count": null,
   "id": "479d03b7-43ec-49a7-9ef9-e39c468a0409",
   "metadata": {},
   "outputs": [],
   "source": []
  }
 ],
 "metadata": {
  "kernelspec": {
   "display_name": "anaconda-panel-2023.05-py310",
   "language": "python",
   "name": "conda-env-anaconda-panel-2023.05-py310-py"
  },
  "language_info": {
   "codemirror_mode": {
    "name": "ipython",
    "version": 3
   },
   "file_extension": ".py",
   "mimetype": "text/x-python",
   "name": "python",
   "nbconvert_exporter": "python",
   "pygments_lexer": "ipython3",
   "version": "3.11.5"
  },
  "toc-autonumbering": true
 },
 "nbformat": 4,
 "nbformat_minor": 5
}
