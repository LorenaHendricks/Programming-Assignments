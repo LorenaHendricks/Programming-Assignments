{
 "cells": [
  {
   "cell_type": "code",
   "execution_count": 1,
   "id": "8336bbcd-6a23-492a-9c7a-71ab092a6cf4",
   "metadata": {},
   "outputs": [],
   "source": [
    "# Make a list called things with these three strings as elements:\n",
    "# mozzarella, cinderella, salmonella"
   ]
  },
  {
   "cell_type": "code",
   "execution_count": 4,
   "id": "c58d4e0f-83f5-401e-a722-f0d79599c83b",
   "metadata": {},
   "outputs": [
    {
     "name": "stdout",
     "output_type": "stream",
     "text": [
      "['mozzarella', 'cinderella', 'salmonella']\n"
     ]
    }
   ],
   "source": [
    "things = [ele+'ella' for ele in ['mozzar','cinder','salmon']]\n",
    "print(things)"
   ]
  },
  {
   "cell_type": "code",
   "execution_count": 6,
   "id": "a2f0b17c-c402-4a87-a255-28ee922781ea",
   "metadata": {},
   "outputs": [],
   "source": [
    "# Capitalize the element in things that refers to a person and then print the list.\n",
    "# Did it change the element in the list?"
   ]
  },
  {
   "cell_type": "code",
   "execution_count": 8,
   "id": "e4678264-e36e-4376-8a68-6fc317f90763",
   "metadata": {},
   "outputs": [
    {
     "name": "stdout",
     "output_type": "stream",
     "text": [
      "['mozzarella', 'Cinderella', 'salmonella']\n"
     ]
    }
   ],
   "source": [
    "for ele in range(len(things)):\n",
    "    if things[ele] == 'cinderella':\n",
    "        things[ele] = things[ele].capitalize()\n",
    "print(things)"
   ]
  },
  {
   "cell_type": "code",
   "execution_count": 24,
   "id": "fb5f00ce-bb83-4709-8d0a-e92ec944c02b",
   "metadata": {},
   "outputs": [],
   "source": [
    "# Make the cheesy element of things all uppercase and then print the list\n",
    "# Delete the disease from the list"
   ]
  },
  {
   "cell_type": "code",
   "execution_count": 32,
   "id": "4aef8467-0c88-46cb-bc96-a8ea171852e4",
   "metadata": {},
   "outputs": [
    {
     "name": "stdout",
     "output_type": "stream",
     "text": [
      "['MOZZARELLA', 'CINDERELLA']\n"
     ]
    }
   ],
   "source": [
    "for ele in range(len(things)):\n",
    "    if things[ele] == 'mozzarella':\n",
    "        things[ele] = things[ele].upper()\n",
    "print(things)"
   ]
  },
  {
   "cell_type": "code",
   "execution_count": 34,
   "id": "8aa5c87d-a35f-4189-a048-1502532104e9",
   "metadata": {},
   "outputs": [],
   "source": [
    "# 9.1 Define a function called good() that returns the following list:\n",
    "# Harry, Ron, Hermione"
   ]
  },
  {
   "cell_type": "code",
   "execution_count": 40,
   "id": "ca22213b-7816-4835-bddd-3ab8ae1cab8c",
   "metadata": {},
   "outputs": [],
   "source": [
    "def good():\n",
    "    return ['Harry', 'Ron', 'Hermione']"
   ]
  },
  {
   "cell_type": "code",
   "execution_count": 50,
   "id": "6c97338e-8ef1-48b7-a286-3d25c1b88b92",
   "metadata": {},
   "outputs": [],
   "source": [
    "# 9.2 Define a generator function called get_odds() that returns the odd numbers from range(10)\n",
    "# Use a for loop to find and print the third value returned. "
   ]
  },
  {
   "cell_type": "code",
   "execution_count": 62,
   "id": "9c5b7f94-f330-4769-b74f-a0e59aa3b1cb",
   "metadata": {},
   "outputs": [
    {
     "ename": "IndentationError",
     "evalue": "expected an indented block after 'if' statement on line 8 (1211678240.py, line 9)",
     "output_type": "error",
     "traceback": [
      "\u001b[0;36m  Cell \u001b[0;32mIn[62], line 9\u001b[0;36m\u001b[0m\n\u001b[0;31m    print(value)\u001b[0m\n\u001b[0m    ^\u001b[0m\n\u001b[0;31mIndentationError\u001b[0m\u001b[0;31m:\u001b[0m expected an indented block after 'if' statement on line 8\n"
     ]
    }
   ],
   "source": [
    "def get_odds():\n",
    "    for num in range(10):\n",
    "        if num % 2 !=0:\n",
    "            yield num; \n",
    "            count = 0\n",
    "            for value in get_odds():\n",
    "                count += 1\n",
    "                if count == 3:\n",
    "            print(value)\n",
    "                break"
   ]
  },
  {
   "cell_type": "code",
   "execution_count": null,
   "id": "469ad4e6-6c12-471e-b642-281a2d308724",
   "metadata": {},
   "outputs": [],
   "source": []
  }
 ],
 "metadata": {
  "kernelspec": {
   "display_name": "anaconda-panel-2023.05-py310",
   "language": "python",
   "name": "conda-env-anaconda-panel-2023.05-py310-py"
  },
  "language_info": {
   "codemirror_mode": {
    "name": "ipython",
    "version": 3
   },
   "file_extension": ".py",
   "mimetype": "text/x-python",
   "name": "python",
   "nbconvert_exporter": "python",
   "pygments_lexer": "ipython3",
   "version": "3.11.5"
  }
 },
 "nbformat": 4,
 "nbformat_minor": 5
}
