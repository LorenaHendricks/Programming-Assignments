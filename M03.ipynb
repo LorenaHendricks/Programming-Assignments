{
 "cells": [
  {
   "cell_type": "code",
   "execution_count": null,
   "id": "82d4b428-feb3-4e0c-b96e-104460638109",
   "metadata": {},
   "outputs": [],
   "source": [
    "# Give an array of size N containing only 0s, 1s, and 2s\n",
    "# Sort the array in ascending order "
   ]
  },
  {
   "cell_type": "code",
   "execution_count": 1,
   "id": "ca43e591-1e06-49b2-85e8-8fb407b15d0d",
   "metadata": {},
   "outputs": [],
   "source": [
    "def sort_0_1_2(X, n):\n",
    "    count_zero = 0\n",
    "    count_one = 0\n",
    "    count_two = 0\n",
    "    for i in range(n):\n",
    "        if X[i] == 0:\n",
    "            count_zero = count_zero + 1\n",
    "        elif X[i] == 1:\n",
    "            count_one = count_one + 1\n",
    "        elif X[i] == 2:\n",
    "            count_two == count_two +1\n",
    "    i = 0\n",
    "    while count_zero > 0:\n",
    "        X[i] = 0\n",
    "        i = i + 1\n",
    "        count_zero = count_zero - 1\n",
    "    while count_one >  0:\n",
    "        X[i] = 1\n",
    "        i = i + 1\n",
    "        count_one = count_one - 1\n",
    "    while count_two > 0:\n",
    "        X[i] = 2\n",
    "        i = i + 1\n",
    "        count_two = count_two - 1"
   ]
  },
  {
   "cell_type": "code",
   "execution_count": 49,
   "id": "d62efd8b-a7b3-463a-9c7b-a1b4f3dbab74",
   "metadata": {},
   "outputs": [],
   "source": [
    "# Given an a sorted array of size N and an integer K, find the position(0 based indexing) at which K is present in the array using binary search\n",
    "# N: size of array \n",
    "# K: element to be searched"
   ]
  },
  {
   "cell_type": "code",
   "execution_count": null,
   "id": "543ebd39-0f18-4659-8b7a-1c3c427ed9f0",
   "metadata": {},
   "outputs": [],
   "source": [
    "int f_index(int arr[], int n=5 int K)\n",
    "{\n",
    "    // Traverse the array \n",
    "    for (int i = 0; i < n; i++)\n",
    "        \n",
    "        // If K is found \n",
    "        if (arr[i] == K)\n",
    "            return i;\n",
    "        \n",
    "        // If current array element \n",
    "        // exceeds K\n",
    "        else if (arr[i] > K)\n",
    "                return i;\n",
    "    \n",
    "    // If all elements are smaller\n",
    "    // than K \n",
    "    return n;\n",
    "    \n",
    "}"
   ]
  },
  {
   "cell_type": "code",
   "execution_count": null,
   "id": "9ede51f7-8345-48ad-aa34-9302222148ee",
   "metadata": {},
   "outputs": [],
   "source": []
  }
 ],
 "metadata": {
  "kernelspec": {
   "display_name": "anaconda-panel-2023.05-py310",
   "language": "python",
   "name": "conda-env-anaconda-panel-2023.05-py310-py"
  },
  "language_info": {
   "codemirror_mode": {
    "name": "ipython",
    "version": 3
   },
   "file_extension": ".py",
   "mimetype": "text/x-python",
   "name": "python",
   "nbconvert_exporter": "python",
   "pygments_lexer": "ipython3",
   "version": "3.11.5"
  }
 },
 "nbformat": 4,
 "nbformat_minor": 5
}
