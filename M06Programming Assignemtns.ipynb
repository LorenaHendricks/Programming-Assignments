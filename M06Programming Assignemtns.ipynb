{
 "cells": [
  {
   "cell_type": "code",
   "execution_count": 1,
   "id": "59477679-b2a9-4b24-8e6c-4fa6b8737b1f",
   "metadata": {},
   "outputs": [],
   "source": [
    "# Write the current date as a string to the text file today.txt"
   ]
  },
  {
   "cell_type": "code",
   "execution_count": 8,
   "id": "51adb7ff-b9c7-4e5a-9893-478c0f534bf6",
   "metadata": {},
   "outputs": [],
   "source": [
    "import datetime\n",
    "today = datetime.date.today()\n",
    "file_ptr = open('today.txt', 'w')\n",
    "file_ptr.write(str(today))\n",
    "file_ptr.close()"
   ]
  },
  {
   "cell_type": "code",
   "execution_count": 10,
   "id": "bae18886-27bd-422a-b9cb-371ab449de94",
   "metadata": {},
   "outputs": [],
   "source": [
    "# Read the text file today.txt into the string today_string"
   ]
  },
  {
   "cell_type": "code",
   "execution_count": 12,
   "id": "f7fd895b-6f16-484c-b966-34698e41f33e",
   "metadata": {},
   "outputs": [],
   "source": [
    "file_ptr = open('today.txt', 'r')\n",
    "today_date = file_ptr.read()\n",
    "file_ptr.close()"
   ]
  },
  {
   "cell_type": "code",
   "execution_count": 14,
   "id": "5c886a22-405b-4152-bbdb-dfa812a13f04",
   "metadata": {},
   "outputs": [],
   "source": [
    "# Parse the date from today_string"
   ]
  },
  {
   "cell_type": "code",
   "execution_count": 16,
   "id": "dc01250b-a584-473e-afc7-deec2724c0f8",
   "metadata": {},
   "outputs": [
    {
     "name": "stdout",
     "output_type": "stream",
     "text": [
      "Today is 2023-12-02\n"
     ]
    }
   ],
   "source": [
    "today = datetime.datetime.strptime(today_date, '%Y-%m-%d').date()\n",
    "print('Today is', today)"
   ]
  },
  {
   "cell_type": "code",
   "execution_count": null,
   "id": "ee64e987-2801-4baa-a641-362f6d08c15c",
   "metadata": {},
   "outputs": [],
   "source": []
  }
 ],
 "metadata": {
  "kernelspec": {
   "display_name": "anaconda-panel-2023.05-py310",
   "language": "python",
   "name": "conda-env-anaconda-panel-2023.05-py310-py"
  },
  "language_info": {
   "codemirror_mode": {
    "name": "ipython",
    "version": 3
   },
   "file_extension": ".py",
   "mimetype": "text/x-python",
   "name": "python",
   "nbconvert_exporter": "python",
   "pygments_lexer": "ipython3",
   "version": "3.11.5"
  }
 },
 "nbformat": 4,
 "nbformat_minor": 5
}
